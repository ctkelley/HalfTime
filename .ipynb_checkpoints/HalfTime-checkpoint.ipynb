{
 "cells": [
  {
   "cell_type": "markdown",
   "id": "a38b82d8",
   "metadata": {},
   "source": [
    "This notebook is a record of what I am doing with half precision. The first task is to show that on Apple M* hardware that half is faster than single is faster than double. You won't see exactly the factor of 2 you'd expect because the arrays are pretty short. I'm also not convinced that ```sum``` exploits low precision as well as it should."
   ]
  },
  {
   "cell_type": "code",
   "execution_count": 1,
   "id": "909a1d57",
   "metadata": {},
   "outputs": [],
   "source": [
    "# Run the init script\n",
    "include(\"Codes/HalfTimeInit.jl\")"
   ]
  },
  {
   "cell_type": "code",
   "execution_count": 6,
   "id": "fe488675",
   "metadata": {},
   "outputs": [],
   "source": [
    "# Make a Float16 array and copy it to Float32 and Float64\n",
    "N=4096\n",
    "x=rand(Float16,N); x32=Float32.(x); x64=Float64.(x);\n"
   ]
  },
  {
   "cell_type": "code",
   "execution_count": 7,
   "id": "1627f979",
   "metadata": {},
   "outputs": [
    {
     "name": "stdout",
     "output_type": "stream",
     "text": [
      "  154.430 ns (1 allocation: 16 bytes)\n",
      "  216.025 ns (1 allocation: 16 bytes)\n",
      "  384.392 ns (1 allocation: 16 bytes)\n"
     ]
    },
    {
     "data": {
      "text/plain": [
       "2.04122e+03"
      ]
     },
     "execution_count": 7,
     "metadata": {},
     "output_type": "execute_result"
    }
   ],
   "source": [
    "# Time the Julia sum command\n",
    "@btime sum(x)\n",
    "@btime sum(x32)\n",
    "@btime sum(x64)"
   ]
  },
  {
   "cell_type": "code",
   "execution_count": null,
   "id": "9f5c960c",
   "metadata": {},
   "outputs": [],
   "source": []
  }
 ],
 "metadata": {
  "kernelspec": {
   "display_name": "Julia 1.11.0",
   "language": "julia",
   "name": "julia-1.11"
  },
  "language_info": {
   "file_extension": ".jl",
   "mimetype": "application/julia",
   "name": "julia",
   "version": "1.11.5"
  }
 },
 "nbformat": 4,
 "nbformat_minor": 5
}
